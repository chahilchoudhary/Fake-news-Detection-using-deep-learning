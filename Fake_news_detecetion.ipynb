{
 "cells": [
  {
   "cell_type": "code",
   "execution_count": 1,
   "id": "02a39b7d",
   "metadata": {},
   "outputs": [],
   "source": [
    "import pandas as pd\n",
    "import numpy as np"
   ]
  },
  {
   "cell_type": "code",
   "execution_count": 2,
   "id": "94d01975",
   "metadata": {},
   "outputs": [],
   "source": [
    "df = pd.read_csv('FA-KES-Dataset.csv', encoding='ISO-8859-1')"
   ]
  },
  {
   "cell_type": "code",
   "execution_count": 3,
   "id": "9c68ee1f",
   "metadata": {},
   "outputs": [
    {
     "data": {
      "text/html": [
       "<div>\n",
       "<style scoped>\n",
       "    .dataframe tbody tr th:only-of-type {\n",
       "        vertical-align: middle;\n",
       "    }\n",
       "\n",
       "    .dataframe tbody tr th {\n",
       "        vertical-align: top;\n",
       "    }\n",
       "\n",
       "    .dataframe thead th {\n",
       "        text-align: right;\n",
       "    }\n",
       "</style>\n",
       "<table border=\"1\" class=\"dataframe\">\n",
       "  <thead>\n",
       "    <tr style=\"text-align: right;\">\n",
       "      <th></th>\n",
       "      <th>unit_id</th>\n",
       "      <th>article_title</th>\n",
       "      <th>article_content</th>\n",
       "      <th>source</th>\n",
       "      <th>date</th>\n",
       "      <th>location</th>\n",
       "      <th>labels</th>\n",
       "    </tr>\n",
       "  </thead>\n",
       "  <tbody>\n",
       "    <tr>\n",
       "      <th>0</th>\n",
       "      <td>1914947530</td>\n",
       "      <td>Syria attack symptoms consistent with nerve ag...</td>\n",
       "      <td>Wed 05 Apr 2017 Syria attack symptoms consiste...</td>\n",
       "      <td>nna</td>\n",
       "      <td>4/5/2017</td>\n",
       "      <td>idlib</td>\n",
       "      <td>0</td>\n",
       "    </tr>\n",
       "    <tr>\n",
       "      <th>1</th>\n",
       "      <td>1914947532</td>\n",
       "      <td>Homs governor says U.S. attack caused deaths b...</td>\n",
       "      <td>Fri 07 Apr 2017 at 0914 Homs governor says U.S...</td>\n",
       "      <td>nna</td>\n",
       "      <td>4/7/2017</td>\n",
       "      <td>homs</td>\n",
       "      <td>0</td>\n",
       "    </tr>\n",
       "    <tr>\n",
       "      <th>2</th>\n",
       "      <td>1914947533</td>\n",
       "      <td>Death toll from Aleppo bomb attack at least 112</td>\n",
       "      <td>Sun 16 Apr 2017 Death toll from Aleppo bomb at...</td>\n",
       "      <td>nna</td>\n",
       "      <td>4/16/2017</td>\n",
       "      <td>aleppo</td>\n",
       "      <td>0</td>\n",
       "    </tr>\n",
       "    <tr>\n",
       "      <th>3</th>\n",
       "      <td>1914947534</td>\n",
       "      <td>Aleppo bomb blast kills six Syrian state TV</td>\n",
       "      <td>Wed 19 Apr 2017 Aleppo bomb blast kills six Sy...</td>\n",
       "      <td>nna</td>\n",
       "      <td>4/19/2017</td>\n",
       "      <td>aleppo</td>\n",
       "      <td>0</td>\n",
       "    </tr>\n",
       "    <tr>\n",
       "      <th>4</th>\n",
       "      <td>1914947535</td>\n",
       "      <td>29 Syria Rebels Dead in Fighting for Key Alepp...</td>\n",
       "      <td>Sun 10 Jul 2016 29 Syria Rebels Dead in Fighti...</td>\n",
       "      <td>nna</td>\n",
       "      <td>7/10/2016</td>\n",
       "      <td>aleppo</td>\n",
       "      <td>0</td>\n",
       "    </tr>\n",
       "  </tbody>\n",
       "</table>\n",
       "</div>"
      ],
      "text/plain": [
       "      unit_id                                      article_title  \\\n",
       "0  1914947530  Syria attack symptoms consistent with nerve ag...   \n",
       "1  1914947532  Homs governor says U.S. attack caused deaths b...   \n",
       "2  1914947533    Death toll from Aleppo bomb attack at least 112   \n",
       "3  1914947534        Aleppo bomb blast kills six Syrian state TV   \n",
       "4  1914947535  29 Syria Rebels Dead in Fighting for Key Alepp...   \n",
       "\n",
       "                                     article_content source       date  \\\n",
       "0  Wed 05 Apr 2017 Syria attack symptoms consiste...    nna   4/5/2017   \n",
       "1  Fri 07 Apr 2017 at 0914 Homs governor says U.S...    nna   4/7/2017   \n",
       "2  Sun 16 Apr 2017 Death toll from Aleppo bomb at...    nna  4/16/2017   \n",
       "3  Wed 19 Apr 2017 Aleppo bomb blast kills six Sy...    nna  4/19/2017   \n",
       "4  Sun 10 Jul 2016 29 Syria Rebels Dead in Fighti...    nna  7/10/2016   \n",
       "\n",
       "  location  labels  \n",
       "0    idlib       0  \n",
       "1     homs       0  \n",
       "2   aleppo       0  \n",
       "3   aleppo       0  \n",
       "4   aleppo       0  "
      ]
     },
     "execution_count": 3,
     "metadata": {},
     "output_type": "execute_result"
    }
   ],
   "source": [
    "df.head()"
   ]
  },
  {
   "cell_type": "code",
   "execution_count": 4,
   "id": "21461e33",
   "metadata": {},
   "outputs": [
    {
     "data": {
      "text/plain": [
       "(804, 7)"
      ]
     },
     "execution_count": 4,
     "metadata": {},
     "output_type": "execute_result"
    }
   ],
   "source": [
    "df.shape"
   ]
  },
  {
   "cell_type": "code",
   "execution_count": 5,
   "id": "8de6fd64",
   "metadata": {},
   "outputs": [],
   "source": [
    "df = df.drop(columns=['unit_id', 'source', 'date','location'])"
   ]
  },
  {
   "cell_type": "code",
   "execution_count": 6,
   "id": "9762f600",
   "metadata": {},
   "outputs": [
    {
     "data": {
      "text/plain": [
       "(804, 3)"
      ]
     },
     "execution_count": 6,
     "metadata": {},
     "output_type": "execute_result"
    }
   ],
   "source": [
    "df.shape"
   ]
  },
  {
   "cell_type": "code",
   "execution_count": 7,
   "id": "2b4b2ea6",
   "metadata": {},
   "outputs": [
    {
     "data": {
      "text/html": [
       "<div>\n",
       "<style scoped>\n",
       "    .dataframe tbody tr th:only-of-type {\n",
       "        vertical-align: middle;\n",
       "    }\n",
       "\n",
       "    .dataframe tbody tr th {\n",
       "        vertical-align: top;\n",
       "    }\n",
       "\n",
       "    .dataframe thead th {\n",
       "        text-align: right;\n",
       "    }\n",
       "</style>\n",
       "<table border=\"1\" class=\"dataframe\">\n",
       "  <thead>\n",
       "    <tr style=\"text-align: right;\">\n",
       "      <th></th>\n",
       "      <th>article_title</th>\n",
       "      <th>article_content</th>\n",
       "      <th>labels</th>\n",
       "    </tr>\n",
       "  </thead>\n",
       "  <tbody>\n",
       "    <tr>\n",
       "      <th>226</th>\n",
       "      <td>Air raids kill 29 civilians in north Syria tow...</td>\n",
       "      <td>Air raids kill 29 civilians in north Syria tow...</td>\n",
       "      <td>0</td>\n",
       "    </tr>\n",
       "    <tr>\n",
       "      <th>140</th>\n",
       "      <td>Death toll in bomb attack on Syria evacuees hi...</td>\n",
       "      <td>Death toll in bomb attack on Syria evacuees hi...</td>\n",
       "      <td>0</td>\n",
       "    </tr>\n",
       "    <tr>\n",
       "      <th>511</th>\n",
       "      <td>French FM: all indications Syria behind chemic...</td>\n",
       "      <td>Saturday 24 August 2013 French Foreign Ministe...</td>\n",
       "      <td>0</td>\n",
       "    </tr>\n",
       "  </tbody>\n",
       "</table>\n",
       "</div>"
      ],
      "text/plain": [
       "                                         article_title  \\\n",
       "226  Air raids kill 29 civilians in north Syria tow...   \n",
       "140  Death toll in bomb attack on Syria evacuees hi...   \n",
       "511  French FM: all indications Syria behind chemic...   \n",
       "\n",
       "                                       article_content  labels  \n",
       "226  Air raids kill 29 civilians in north Syria tow...       0  \n",
       "140  Death toll in bomb attack on Syria evacuees hi...       0  \n",
       "511  Saturday 24 August 2013 French Foreign Ministe...       0  "
      ]
     },
     "execution_count": 7,
     "metadata": {},
     "output_type": "execute_result"
    }
   ],
   "source": [
    "df.sample(3)"
   ]
  },
  {
   "cell_type": "code",
   "execution_count": 8,
   "id": "c0d6ec5a",
   "metadata": {},
   "outputs": [],
   "source": [
    "df['article_title'] = df['article_title'].str.lower()\n",
    "df['article_content'] = df['article_content'].str.lower()"
   ]
  },
  {
   "cell_type": "code",
   "execution_count": 9,
   "id": "dd2a9167",
   "metadata": {},
   "outputs": [],
   "source": [
    "import re\n",
    "def remove_tags(text):\n",
    "    if isinstance(text, str):\n",
    "        pattern = re.compile('<.*?>')\n",
    "        return pattern.sub(r'', text)\n",
    "    else:\n",
    "        return text"
   ]
  },
  {
   "cell_type": "code",
   "execution_count": 10,
   "id": "78f2f993",
   "metadata": {},
   "outputs": [],
   "source": [
    "df['article_title'] = df['article_title'].apply(remove_tags)\n",
    "df['article_content'] = df['article_content'].apply(remove_tags)"
   ]
  },
  {
   "cell_type": "code",
   "execution_count": 11,
   "id": "a2b5a321",
   "metadata": {},
   "outputs": [],
   "source": [
    "def remove_url(text):\n",
    "    if isinstance(text, str):\n",
    "        pattern = re.compile(r'https?://\\S+|www\\.\\S+')\n",
    "        return pattern.sub(r'', text)\n",
    "    else:\n",
    "        return text "
   ]
  },
  {
   "cell_type": "code",
   "execution_count": 12,
   "id": "3807157d",
   "metadata": {},
   "outputs": [],
   "source": [
    "df['article_title'] = df['article_title'].apply(remove_url)\n",
    "df['article_content'] = df['article_content'].apply(remove_url)"
   ]
  },
  {
   "cell_type": "code",
   "execution_count": 13,
   "id": "52aaad00",
   "metadata": {},
   "outputs": [],
   "source": [
    "import string\n",
    "string.punctuation\n",
    "exclude = string.punctuation"
   ]
  },
  {
   "cell_type": "code",
   "execution_count": 14,
   "id": "9fe61e34",
   "metadata": {},
   "outputs": [],
   "source": [
    "def remove_punc1(text):\n",
    "    if isinstance(text, str):\n",
    "        return text.translate(str.maketrans('', '', exclude))\n",
    "    else:\n",
    "        return text"
   ]
  },
  {
   "cell_type": "code",
   "execution_count": 15,
   "id": "4687d53e",
   "metadata": {},
   "outputs": [],
   "source": [
    "df['article_title'] = df['article_title'].apply(remove_punc1)\n",
    "df['article_content'] = df['article_content'].apply(remove_punc1)"
   ]
  },
  {
   "cell_type": "code",
   "execution_count": 16,
   "id": "f3082f80",
   "metadata": {},
   "outputs": [
    {
     "data": {
      "text/html": [
       "<div>\n",
       "<style scoped>\n",
       "    .dataframe tbody tr th:only-of-type {\n",
       "        vertical-align: middle;\n",
       "    }\n",
       "\n",
       "    .dataframe tbody tr th {\n",
       "        vertical-align: top;\n",
       "    }\n",
       "\n",
       "    .dataframe thead th {\n",
       "        text-align: right;\n",
       "    }\n",
       "</style>\n",
       "<table border=\"1\" class=\"dataframe\">\n",
       "  <thead>\n",
       "    <tr style=\"text-align: right;\">\n",
       "      <th></th>\n",
       "      <th>article_title</th>\n",
       "      <th>article_content</th>\n",
       "      <th>labels</th>\n",
       "    </tr>\n",
       "  </thead>\n",
       "  <tbody>\n",
       "    <tr>\n",
       "      <th>0</th>\n",
       "      <td>syria attack symptoms consistent with nerve ag...</td>\n",
       "      <td>wed 05 apr 2017 syria attack symptoms consiste...</td>\n",
       "      <td>0</td>\n",
       "    </tr>\n",
       "    <tr>\n",
       "      <th>1</th>\n",
       "      <td>homs governor says us attack caused deaths but...</td>\n",
       "      <td>fri 07 apr 2017 at 0914 homs governor says us ...</td>\n",
       "      <td>0</td>\n",
       "    </tr>\n",
       "    <tr>\n",
       "      <th>2</th>\n",
       "      <td>death toll from aleppo bomb attack at least 112</td>\n",
       "      <td>sun 16 apr 2017 death toll from aleppo bomb at...</td>\n",
       "      <td>0</td>\n",
       "    </tr>\n",
       "    <tr>\n",
       "      <th>3</th>\n",
       "      <td>aleppo bomb blast kills six syrian state tv</td>\n",
       "      <td>wed 19 apr 2017 aleppo bomb blast kills six sy...</td>\n",
       "      <td>0</td>\n",
       "    </tr>\n",
       "    <tr>\n",
       "      <th>4</th>\n",
       "      <td>29 syria rebels dead in fighting for key alepp...</td>\n",
       "      <td>sun 10 jul 2016 29 syria rebels dead in fighti...</td>\n",
       "      <td>0</td>\n",
       "    </tr>\n",
       "  </tbody>\n",
       "</table>\n",
       "</div>"
      ],
      "text/plain": [
       "                                       article_title  \\\n",
       "0  syria attack symptoms consistent with nerve ag...   \n",
       "1  homs governor says us attack caused deaths but...   \n",
       "2    death toll from aleppo bomb attack at least 112   \n",
       "3        aleppo bomb blast kills six syrian state tv   \n",
       "4  29 syria rebels dead in fighting for key alepp...   \n",
       "\n",
       "                                     article_content  labels  \n",
       "0  wed 05 apr 2017 syria attack symptoms consiste...       0  \n",
       "1  fri 07 apr 2017 at 0914 homs governor says us ...       0  \n",
       "2  sun 16 apr 2017 death toll from aleppo bomb at...       0  \n",
       "3  wed 19 apr 2017 aleppo bomb blast kills six sy...       0  \n",
       "4  sun 10 jul 2016 29 syria rebels dead in fighti...       0  "
      ]
     },
     "execution_count": 16,
     "metadata": {},
     "output_type": "execute_result"
    }
   ],
   "source": [
    "df.head()"
   ]
  },
  {
   "cell_type": "code",
   "execution_count": 17,
   "id": "513d96b7",
   "metadata": {},
   "outputs": [],
   "source": [
    "from nltk.corpus import stopwords"
   ]
  },
  {
   "cell_type": "code",
   "execution_count": 18,
   "id": "a03bdce8",
   "metadata": {},
   "outputs": [],
   "source": [
    "def remove_stopwords1(text):\n",
    "    if isinstance(text, str):\n",
    "        stop_words = set(stopwords.words('english'))\n",
    "        words = text.split()\n",
    "        filtered_words = [word for word in words if word.lower() not in stop_words]\n",
    "        return \" \".join(filtered_words)\n",
    "    else:\n",
    "        return text"
   ]
  },
  {
   "cell_type": "code",
   "execution_count": 19,
   "id": "92caf3c1",
   "metadata": {},
   "outputs": [],
   "source": [
    "df['article_title'] = df['article_title'].apply(remove_stopwords1)\n",
    "df['article_content'] = df['article_content'].apply(remove_stopwords1)"
   ]
  },
  {
   "cell_type": "code",
   "execution_count": 20,
   "id": "47de5323",
   "metadata": {},
   "outputs": [
    {
     "data": {
      "text/html": [
       "<div>\n",
       "<style scoped>\n",
       "    .dataframe tbody tr th:only-of-type {\n",
       "        vertical-align: middle;\n",
       "    }\n",
       "\n",
       "    .dataframe tbody tr th {\n",
       "        vertical-align: top;\n",
       "    }\n",
       "\n",
       "    .dataframe thead th {\n",
       "        text-align: right;\n",
       "    }\n",
       "</style>\n",
       "<table border=\"1\" class=\"dataframe\">\n",
       "  <thead>\n",
       "    <tr style=\"text-align: right;\">\n",
       "      <th></th>\n",
       "      <th>article_title</th>\n",
       "      <th>article_content</th>\n",
       "      <th>labels</th>\n",
       "    </tr>\n",
       "  </thead>\n",
       "  <tbody>\n",
       "    <tr>\n",
       "      <th>0</th>\n",
       "      <td>syria attack symptoms consistent nerve agent use</td>\n",
       "      <td>wed 05 apr 2017 syria attack symptoms consiste...</td>\n",
       "      <td>0</td>\n",
       "    </tr>\n",
       "    <tr>\n",
       "      <th>1</th>\n",
       "      <td>homs governor says us attack caused deaths doe...</td>\n",
       "      <td>fri 07 apr 2017 0914 homs governor says us att...</td>\n",
       "      <td>0</td>\n",
       "    </tr>\n",
       "    <tr>\n",
       "      <th>2</th>\n",
       "      <td>death toll aleppo bomb attack least 112</td>\n",
       "      <td>sun 16 apr 2017 death toll aleppo bomb attack ...</td>\n",
       "      <td>0</td>\n",
       "    </tr>\n",
       "    <tr>\n",
       "      <th>3</th>\n",
       "      <td>aleppo bomb blast kills six syrian state tv</td>\n",
       "      <td>wed 19 apr 2017 aleppo bomb blast kills six sy...</td>\n",
       "      <td>0</td>\n",
       "    </tr>\n",
       "    <tr>\n",
       "      <th>4</th>\n",
       "      <td>29 syria rebels dead fighting key aleppo road</td>\n",
       "      <td>sun 10 jul 2016 29 syria rebels dead fighting ...</td>\n",
       "      <td>0</td>\n",
       "    </tr>\n",
       "  </tbody>\n",
       "</table>\n",
       "</div>"
      ],
      "text/plain": [
       "                                       article_title  \\\n",
       "0   syria attack symptoms consistent nerve agent use   \n",
       "1  homs governor says us attack caused deaths doe...   \n",
       "2            death toll aleppo bomb attack least 112   \n",
       "3        aleppo bomb blast kills six syrian state tv   \n",
       "4      29 syria rebels dead fighting key aleppo road   \n",
       "\n",
       "                                     article_content  labels  \n",
       "0  wed 05 apr 2017 syria attack symptoms consiste...       0  \n",
       "1  fri 07 apr 2017 0914 homs governor says us att...       0  \n",
       "2  sun 16 apr 2017 death toll aleppo bomb attack ...       0  \n",
       "3  wed 19 apr 2017 aleppo bomb blast kills six sy...       0  \n",
       "4  sun 10 jul 2016 29 syria rebels dead fighting ...       0  "
      ]
     },
     "execution_count": 20,
     "metadata": {},
     "output_type": "execute_result"
    }
   ],
   "source": [
    "df.head(5)"
   ]
  },
  {
   "cell_type": "code",
   "execution_count": 21,
   "id": "838bd9eb",
   "metadata": {},
   "outputs": [],
   "source": [
    "#tokenization\n",
    "from nltk.tokenize import word_tokenize, sent_tokenize"
   ]
  },
  {
   "cell_type": "code",
   "execution_count": 22,
   "id": "d201ed4c",
   "metadata": {},
   "outputs": [],
   "source": [
    "# Tokenize the 'title' column\n",
    "df['article_title'] = df['article_title'].apply(lambda x: word_tokenize(x) if isinstance(x, str) else x)\n",
    "df['article_content'] = df['article_content'].apply(lambda x: word_tokenize(x) if isinstance(x, str) else x)"
   ]
  },
  {
   "cell_type": "code",
   "execution_count": 23,
   "id": "47ca19bf",
   "metadata": {},
   "outputs": [
    {
     "data": {
      "text/html": [
       "<div>\n",
       "<style scoped>\n",
       "    .dataframe tbody tr th:only-of-type {\n",
       "        vertical-align: middle;\n",
       "    }\n",
       "\n",
       "    .dataframe tbody tr th {\n",
       "        vertical-align: top;\n",
       "    }\n",
       "\n",
       "    .dataframe thead th {\n",
       "        text-align: right;\n",
       "    }\n",
       "</style>\n",
       "<table border=\"1\" class=\"dataframe\">\n",
       "  <thead>\n",
       "    <tr style=\"text-align: right;\">\n",
       "      <th></th>\n",
       "      <th>article_title</th>\n",
       "      <th>article_content</th>\n",
       "      <th>labels</th>\n",
       "    </tr>\n",
       "  </thead>\n",
       "  <tbody>\n",
       "    <tr>\n",
       "      <th>0</th>\n",
       "      <td>[syria, attack, symptoms, consistent, nerve, a...</td>\n",
       "      <td>[wed, 05, apr, 2017, syria, attack, symptoms, ...</td>\n",
       "      <td>0</td>\n",
       "    </tr>\n",
       "    <tr>\n",
       "      <th>1</th>\n",
       "      <td>[homs, governor, says, us, attack, caused, dea...</td>\n",
       "      <td>[fri, 07, apr, 2017, 0914, homs, governor, say...</td>\n",
       "      <td>0</td>\n",
       "    </tr>\n",
       "    <tr>\n",
       "      <th>2</th>\n",
       "      <td>[death, toll, aleppo, bomb, attack, least, 112]</td>\n",
       "      <td>[sun, 16, apr, 2017, death, toll, aleppo, bomb...</td>\n",
       "      <td>0</td>\n",
       "    </tr>\n",
       "    <tr>\n",
       "      <th>3</th>\n",
       "      <td>[aleppo, bomb, blast, kills, six, syrian, stat...</td>\n",
       "      <td>[wed, 19, apr, 2017, aleppo, bomb, blast, kill...</td>\n",
       "      <td>0</td>\n",
       "    </tr>\n",
       "    <tr>\n",
       "      <th>4</th>\n",
       "      <td>[29, syria, rebels, dead, fighting, key, alepp...</td>\n",
       "      <td>[sun, 10, jul, 2016, 29, syria, rebels, dead, ...</td>\n",
       "      <td>0</td>\n",
       "    </tr>\n",
       "  </tbody>\n",
       "</table>\n",
       "</div>"
      ],
      "text/plain": [
       "                                       article_title  \\\n",
       "0  [syria, attack, symptoms, consistent, nerve, a...   \n",
       "1  [homs, governor, says, us, attack, caused, dea...   \n",
       "2    [death, toll, aleppo, bomb, attack, least, 112]   \n",
       "3  [aleppo, bomb, blast, kills, six, syrian, stat...   \n",
       "4  [29, syria, rebels, dead, fighting, key, alepp...   \n",
       "\n",
       "                                     article_content  labels  \n",
       "0  [wed, 05, apr, 2017, syria, attack, symptoms, ...       0  \n",
       "1  [fri, 07, apr, 2017, 0914, homs, governor, say...       0  \n",
       "2  [sun, 16, apr, 2017, death, toll, aleppo, bomb...       0  \n",
       "3  [wed, 19, apr, 2017, aleppo, bomb, blast, kill...       0  \n",
       "4  [sun, 10, jul, 2016, 29, syria, rebels, dead, ...       0  "
      ]
     },
     "execution_count": 23,
     "metadata": {},
     "output_type": "execute_result"
    }
   ],
   "source": [
    "df.head(5)"
   ]
  },
  {
   "cell_type": "code",
   "execution_count": 24,
   "id": "829054bc",
   "metadata": {},
   "outputs": [],
   "source": [
    "import pandas as pd\n",
    "import spacy\n",
    "\n",
    "# Ensure you have loaded the spacy model\n",
    "nlp = spacy.load(\"en_core_web_sm\")\n",
    "\n",
    "def lemmatize_with_spacy(text):\n",
    "    # Check if the input is a string\n",
    "    if isinstance(text, str):\n",
    "        doc = nlp(text)\n",
    "        return ' '.join([token.lemma_ for token in doc])\n",
    "    else:\n",
    "        # Return the input as it is if it's not a string\n",
    "        return text\n",
    "\n",
    "# Assuming df is your DataFrame\n",
    "# Lemmatize the 'article_title' column\n",
    "df['article_title'] = df['article_title'].apply(lemmatize_with_spacy)\n",
    "\n",
    "# Lemmatize the 'article_content' column\n",
    "df['article_content'] = df['article_content'].apply(lemmatize_with_spacy)\n"
   ]
  },
  {
   "cell_type": "code",
   "execution_count": 25,
   "id": "752cca44",
   "metadata": {},
   "outputs": [
    {
     "data": {
      "text/html": [
       "<div>\n",
       "<style scoped>\n",
       "    .dataframe tbody tr th:only-of-type {\n",
       "        vertical-align: middle;\n",
       "    }\n",
       "\n",
       "    .dataframe tbody tr th {\n",
       "        vertical-align: top;\n",
       "    }\n",
       "\n",
       "    .dataframe thead th {\n",
       "        text-align: right;\n",
       "    }\n",
       "</style>\n",
       "<table border=\"1\" class=\"dataframe\">\n",
       "  <thead>\n",
       "    <tr style=\"text-align: right;\">\n",
       "      <th></th>\n",
       "      <th>article_title</th>\n",
       "      <th>article_content</th>\n",
       "      <th>labels</th>\n",
       "    </tr>\n",
       "  </thead>\n",
       "  <tbody>\n",
       "    <tr>\n",
       "      <th>0</th>\n",
       "      <td>[syria, attack, symptoms, consistent, nerve, a...</td>\n",
       "      <td>[wed, 05, apr, 2017, syria, attack, symptoms, ...</td>\n",
       "      <td>0</td>\n",
       "    </tr>\n",
       "    <tr>\n",
       "      <th>1</th>\n",
       "      <td>[homs, governor, says, us, attack, caused, dea...</td>\n",
       "      <td>[fri, 07, apr, 2017, 0914, homs, governor, say...</td>\n",
       "      <td>0</td>\n",
       "    </tr>\n",
       "    <tr>\n",
       "      <th>2</th>\n",
       "      <td>[death, toll, aleppo, bomb, attack, least, 112]</td>\n",
       "      <td>[sun, 16, apr, 2017, death, toll, aleppo, bomb...</td>\n",
       "      <td>0</td>\n",
       "    </tr>\n",
       "    <tr>\n",
       "      <th>3</th>\n",
       "      <td>[aleppo, bomb, blast, kills, six, syrian, stat...</td>\n",
       "      <td>[wed, 19, apr, 2017, aleppo, bomb, blast, kill...</td>\n",
       "      <td>0</td>\n",
       "    </tr>\n",
       "    <tr>\n",
       "      <th>4</th>\n",
       "      <td>[29, syria, rebels, dead, fighting, key, alepp...</td>\n",
       "      <td>[sun, 10, jul, 2016, 29, syria, rebels, dead, ...</td>\n",
       "      <td>0</td>\n",
       "    </tr>\n",
       "  </tbody>\n",
       "</table>\n",
       "</div>"
      ],
      "text/plain": [
       "                                       article_title  \\\n",
       "0  [syria, attack, symptoms, consistent, nerve, a...   \n",
       "1  [homs, governor, says, us, attack, caused, dea...   \n",
       "2    [death, toll, aleppo, bomb, attack, least, 112]   \n",
       "3  [aleppo, bomb, blast, kills, six, syrian, stat...   \n",
       "4  [29, syria, rebels, dead, fighting, key, alepp...   \n",
       "\n",
       "                                     article_content  labels  \n",
       "0  [wed, 05, apr, 2017, syria, attack, symptoms, ...       0  \n",
       "1  [fri, 07, apr, 2017, 0914, homs, governor, say...       0  \n",
       "2  [sun, 16, apr, 2017, death, toll, aleppo, bomb...       0  \n",
       "3  [wed, 19, apr, 2017, aleppo, bomb, blast, kill...       0  \n",
       "4  [sun, 10, jul, 2016, 29, syria, rebels, dead, ...       0  "
      ]
     },
     "execution_count": 25,
     "metadata": {},
     "output_type": "execute_result"
    }
   ],
   "source": [
    "df.head(5)"
   ]
  },
  {
   "cell_type": "code",
   "execution_count": 26,
   "id": "c207a255",
   "metadata": {},
   "outputs": [],
   "source": [
    "from sklearn.feature_extraction.text import CountVectorizer"
   ]
  },
  {
   "cell_type": "code",
   "execution_count": 27,
   "id": "67992889",
   "metadata": {},
   "outputs": [],
   "source": [
    "cv = CountVectorizer(ngram_range=(2,2))"
   ]
  },
  {
   "cell_type": "code",
   "execution_count": 28,
   "id": "21f105a7",
   "metadata": {},
   "outputs": [],
   "source": [
    "df['article_content'] = df['article_content'].apply(lambda x: ' '.join(x))\n",
    "\n",
    "# Now use CountVectorizer\n",
    "bow1 = cv.fit_transform(df['article_content'])"
   ]
  },
  {
   "cell_type": "code",
   "execution_count": 29,
   "id": "cfebb470",
   "metadata": {},
   "outputs": [],
   "source": [
    "from sklearn.metrics.pairwise import cosine_similarity\n",
    "similarity = cosine_similarity(bow1)"
   ]
  },
  {
   "cell_type": "code",
   "execution_count": 30,
   "id": "5a1c121e",
   "metadata": {},
   "outputs": [
    {
     "data": {
      "text/plain": [
       "array([1.        , 0.03766515, 0.02491914, 0.00871181, 0.00847945,\n",
       "       0.01892377, 0.0049539 , 0.01199175, 0.        , 0.        ,\n",
       "       0.00763804, 0.00368996, 0.        , 0.00755778, 0.00441769,\n",
       "       0.02222531, 0.00919251, 0.01106988, 0.01694108, 0.00396264,\n",
       "       0.01570089, 0.00393262, 0.03524099, 0.00557737, 0.01002521,\n",
       "       0.07465974, 0.04248671, 0.04845487, 0.        , 0.01591165,\n",
       "       0.00361854, 0.01898145, 0.01659601, 0.00370228, 0.01960156,\n",
       "       0.01504293, 0.00904353, 0.01327681, 0.02948473, 0.01163972,\n",
       "       0.02088051, 0.0101222 , 0.009439  , 0.01375337, 0.0120447 ,\n",
       "       0.0191577 , 0.00266282, 0.00708046, 0.01162372, 0.00873204,\n",
       "       0.01005953, 0.01242303, 0.01186522, 0.0575314 , 0.02485773,\n",
       "       0.08142796, 0.00924027, 0.04632549, 0.05930458, 0.00450432,\n",
       "       0.01975652, 0.01250174, 0.01260905, 0.01347964, 0.01017891,\n",
       "       0.01315941, 0.00957885, 0.00493913, 0.01588102, 0.00717995,\n",
       "       0.00861269, 0.03525769, 0.08435436, 0.02560738, 0.00303818,\n",
       "       0.01066974, 0.00399336, 0.01985128, 0.        , 0.00479838,\n",
       "       0.04230458, 0.04870361, 0.04875002, 0.04804938, 0.0173435 ,\n",
       "       0.02867476, 0.12476895, 0.00409836, 0.00325424, 0.01209835,\n",
       "       0.01792172, 0.02928816, 0.00419399, 0.02663851, 0.01681207,\n",
       "       0.00909918, 0.00433588, 0.01456753, 0.02119862, 0.00546946,\n",
       "       0.01175359, 0.01619553, 0.00989135, 0.01552675, 0.00824188,\n",
       "       0.00375283, 0.02476948, 0.01266375, 0.00473238, 0.02140565,\n",
       "       0.02194918, 0.00454959, 0.        , 0.01883257, 0.03093996,\n",
       "       0.02571042, 0.01243604, 0.00441769, 0.        , 0.00348731,\n",
       "       0.00574903, 0.01288991, 0.02061895, 0.00438647, 0.00709131,\n",
       "       0.02890216, 0.01850196, 0.01133667, 0.0361277 , 0.0088565 ,\n",
       "       0.00867175, 0.00711316, 0.01806385, 0.02323441, 0.03670852,\n",
       "       0.00801798, 0.        , 0.01512293, 0.01792875, 0.01178675,\n",
       "       0.03658197, 0.00596975, 0.006603  , 0.00976272, 0.06956312,\n",
       "       0.06710956, 0.04503393, 0.10815119, 0.006603  , 0.01097907,\n",
       "       0.004999  , 0.00850435, 0.01819837, 0.01623164, 0.00826475,\n",
       "       0.01530333, 0.00976272, 0.00667438, 0.01930229, 0.00729558,\n",
       "       0.00730745, 0.00833449, 0.00819672, 0.        , 0.00744199,\n",
       "       0.01486169, 0.        , 0.00591851, 0.01588102, 0.01309806,\n",
       "       0.01767414, 0.01127302, 0.00557209, 0.00819672, 0.00924027,\n",
       "       0.01606047, 0.00364188, 0.00842421, 0.00498383, 0.00833449,\n",
       "       0.00531644, 0.00438647, 0.0055511 , 0.00544961, 0.01892952,\n",
       "       0.01535828, 0.01413931, 0.00577235, 0.0068635 , 0.01215272,\n",
       "       0.00474536, 0.00865193, 0.01578685, 0.00867175, 0.01382444,\n",
       "       0.04948758, 0.01455968, 0.01947518, 0.01371824, 0.02600035,\n",
       "       0.01532768, 0.00914549, 0.01168811, 0.03983042, 0.00863224,\n",
       "       0.01031751, 0.02808895, 0.00855482, 0.00813035, 0.00542997,\n",
       "       0.00589338, 0.01674007, 0.        , 0.02538496, 0.02024441,\n",
       "       0.        , 0.01423609, 0.006603  , 0.00879361, 0.00833449,\n",
       "       0.01101966, 0.01443576, 0.01646861, 0.        , 0.        ,\n",
       "       0.02663328, 0.00896437, 0.00678594, 0.009439  , 0.01674007,\n",
       "       0.01263631, 0.01313631, 0.00806557, 0.02638083, 0.01665331,\n",
       "       0.00840603, 0.02035782, 0.02514882, 0.00928877, 0.00892075,\n",
       "       0.00881442, 0.        , 0.        , 0.00607636, 0.01663378,\n",
       "       0.02077032, 0.00428699, 0.00896437, 0.03825834, 0.00963898,\n",
       "       0.01515964, 0.00835221, 0.02622297, 0.01280369, 0.00450432,\n",
       "       0.00512558, 0.01523098, 0.00933805, 0.02061895, 0.01530333,\n",
       "       0.01237779, 0.00501431, 0.01829098, 0.01145197, 0.00879361,\n",
       "       0.01293368, 0.02228836, 0.01606047, 0.00630792, 0.01300763,\n",
       "       0.01447671, 0.        , 0.        , 0.00896437, 0.00524459,\n",
       "       0.01775552, 0.00928877, 0.01145706, 0.01670441, 0.01611692,\n",
       "       0.00855482, 0.01247533, 0.01617398, 0.01419714, 0.01260905,\n",
       "       0.00298164, 0.0101222 , 0.06770241, 0.02760031, 0.01705895,\n",
       "       0.01704215, 0.01730386, 0.00898397, 0.00339775, 0.00446038,\n",
       "       0.01047748, 0.01303756, 0.01306771, 0.00478496, 0.00900369,\n",
       "       0.01730386, 0.01720826, 0.01205804, 0.00951691, 0.01802721,\n",
       "       0.01437498, 0.01622802, 0.00392522, 0.00909408, 0.00821357,\n",
       "       0.00951691, 0.01490818, 0.        , 0.01783189, 0.        ,\n",
       "       0.01260905, 0.00644223, 0.00938252, 0.00568632, 0.00408999,\n",
       "       0.01294837, 0.01923106, 0.0088512 , 0.02089413, 0.01731274,\n",
       "       0.01015044, 0.00467525, 0.02474845, 0.00926442, 0.0029656 ,\n",
       "       0.00806557, 0.0086062 , 0.00323755, 0.00586856, 0.01005263,\n",
       "       0.00873204, 0.00942762, 0.01129737, 0.00577822, 0.00278078,\n",
       "       0.00928877, 0.00420302, 0.00653385, 0.00581986, 0.        ,\n",
       "       0.00275492, 0.0063622 , 0.01930229, 0.07005866, 0.11262037,\n",
       "       0.01163972, 0.01178675, 0.01731705, 0.01478443, 0.0068635 ,\n",
       "       0.00896437, 0.02239465, 0.0082878 , 0.04820249, 0.00550983,\n",
       "       0.00586856, 0.00645861, 0.00408999, 0.00368385, 0.00896437,\n",
       "       0.        , 0.00987826, 0.00965114, 0.02831701, 0.        ,\n",
       "       0.01035117, 0.01322163, 0.00423972, 0.01983539, 0.009439  ,\n",
       "       0.01334877, 0.03227287, 0.00522708, 0.        , 0.00633877,\n",
       "       0.00671096, 0.02462248, 0.00938812, 0.00896437, 0.01255505,\n",
       "       0.02002655, 0.01334877, 0.00520975, 0.        , 0.00864974,\n",
       "       0.02004495, 0.00792528, 0.02183011, 0.00933805, 0.01495149,\n",
       "       0.        , 0.02385826, 0.00473238, 0.00883538, 0.01260905,\n",
       "       0.01136144, 0.        , 0.        , 0.        , 0.02400691,\n",
       "       0.0080023 , 0.        , 0.        , 0.        , 0.        ,\n",
       "       0.        , 0.        , 0.        , 0.00924027, 0.        ,\n",
       "       0.01848053, 0.        , 0.        , 0.        , 0.        ,\n",
       "       0.        , 0.        , 0.        , 0.        , 0.        ,\n",
       "       0.        , 0.        , 0.00826475, 0.        , 0.        ,\n",
       "       0.        , 0.0241967 , 0.        , 0.        , 0.        ,\n",
       "       0.        , 0.        , 0.        , 0.        , 0.        ,\n",
       "       0.        , 0.00431612, 0.00469406, 0.0637973 , 0.        ,\n",
       "       0.        , 0.        , 0.01600461, 0.        , 0.        ,\n",
       "       0.01455968, 0.07041669, 0.02304074, 0.        , 0.01745957,\n",
       "       0.        , 0.06337502, 0.05433043, 0.00838797, 0.01508929,\n",
       "       0.        , 0.00418502, 0.00418502, 0.00418502, 0.00418502,\n",
       "       0.        , 0.        , 0.01131697, 0.02310066, 0.        ,\n",
       "       0.00489561, 0.01149805, 0.00496879, 0.        , 0.        ,\n",
       "       0.        , 0.00504536, 0.00501431, 0.        , 0.        ,\n",
       "       0.        , 0.        , 0.06255497, 0.        , 0.00941346,\n",
       "       0.        , 0.07136602, 0.        , 0.        , 0.03517444,\n",
       "       0.03509177, 0.        , 0.00410678, 0.00693359, 0.00693359,\n",
       "       0.06304525, 0.        , 0.01604477, 0.08603207, 0.01472997,\n",
       "       0.01258196, 0.0042121 , 0.0042121 , 0.        , 0.00348731,\n",
       "       0.07069356, 0.0043559 , 0.        , 0.00422125, 0.00401687,\n",
       "       0.02225093, 0.02649102, 0.00857398, 0.        , 0.00842421,\n",
       "       0.00447124, 0.08721888, 0.01597344, 0.08654302, 0.02516944,\n",
       "       0.        , 0.04588286, 0.0038465 , 0.06813881, 0.01043101,\n",
       "       0.00942762, 0.00701638, 0.        , 0.0066295 , 0.07935467,\n",
       "       0.01564219, 0.01992177, 0.05688706, 0.01394923, 0.03169385,\n",
       "       0.        , 0.01386717, 0.01386717, 0.00978805, 0.00978805,\n",
       "       0.        , 0.06357965, 0.1106274 , 0.00237759, 0.00237759,\n",
       "       0.00237759, 0.        , 0.00817442, 0.00817442, 0.09667894,\n",
       "       0.11657316, 0.00960277, 0.11859676, 0.06768366, 0.09561357,\n",
       "       0.02085833, 0.00277816, 0.1123823 , 0.02141304, 0.02574821,\n",
       "       0.09222453, 0.08117449, 0.00640184, 0.02399192, 0.08210192,\n",
       "       0.01364878, 0.01980899, 0.0050611 , 0.00898643, 0.02392481,\n",
       "       0.01163972, 0.00728376, 0.02024441, 0.00574903, 0.00574903,\n",
       "       0.00469406, 0.        , 0.        , 0.        , 0.0049245 ,\n",
       "       0.        , 0.00694377, 0.0047195 , 0.        , 0.        ,\n",
       "       0.00557209, 0.00867175, 0.00539133, 0.        , 0.        ,\n",
       "       0.        , 0.00522708, 0.        , 0.00483934, 0.        ,\n",
       "       0.00520975, 0.        , 0.0041497 , 0.        , 0.0291753 ,\n",
       "       0.00714632, 0.        , 0.00468149, 0.        , 0.        ,\n",
       "       0.00366569, 0.        , 0.        , 0.0043968 , 0.        ,\n",
       "       0.        , 0.02320497, 0.        , 0.        , 0.00414101,\n",
       "       0.        , 0.01431496, 0.00442825, 0.01123919, 0.        ,\n",
       "       0.        , 0.        , 0.        , 0.        , 0.        ,\n",
       "       0.        , 0.        , 0.        , 0.        , 0.03185036,\n",
       "       0.        , 0.00450432, 0.        , 0.00459626, 0.        ,\n",
       "       0.        , 0.0357874 , 0.00656815, 0.        , 0.00739221,\n",
       "       0.00478496, 0.00452679, 0.        , 0.0047195 , 0.        ,\n",
       "       0.01035117, 0.        , 0.04296636, 0.00574903, 0.        ,\n",
       "       0.00962384, 0.03629504, 0.07138008, 0.08839985, 0.00804961,\n",
       "       0.00356208, 0.01981558, 0.00577235, 0.01286098, 0.01617398,\n",
       "       0.02507156, 0.00474536, 0.00849811, 0.01070698, 0.        ,\n",
       "       0.00577235, 0.01116299, 0.        , 0.        , 0.00335088,\n",
       "       0.01055632, 0.        , 0.02466928, 0.        , 0.02729755,\n",
       "       0.        , 0.00987826, 0.03739997, 0.00401687, 0.00398561,\n",
       "       0.        , 0.00954331, 0.        , 0.00457275, 0.00853579,\n",
       "       0.        , 0.00694377, 0.        , 0.        , 0.        ,\n",
       "       0.00400899, 0.01137638, 0.        , 0.00584406, 0.        ,\n",
       "       0.01191077, 0.        , 0.00387457, 0.        , 0.        ,\n",
       "       0.        , 0.02095495, 0.02553452, 0.08732887, 0.        ,\n",
       "       0.        , 0.        , 0.        , 0.        , 0.00996766,\n",
       "       0.        , 0.        , 0.00515875, 0.01159191, 0.        ,\n",
       "       0.        , 0.0050611 , 0.        , 0.        , 0.        ,\n",
       "       0.00546946, 0.        , 0.00813035, 0.        , 0.        ,\n",
       "       0.01760568, 0.00517558, 0.        , 0.00680508, 0.        ,\n",
       "       0.        , 0.        , 0.        , 0.        , 0.        ,\n",
       "       0.        , 0.        , 0.        , 0.        , 0.00557209,\n",
       "       0.        , 0.        , 0.        , 0.        , 0.        ,\n",
       "       0.00431612, 0.        , 0.        , 0.02527262, 0.00838797,\n",
       "       0.        , 0.00386046, 0.        , 0.        , 0.00493913,\n",
       "       0.00951691, 0.00336473, 0.00936298, 0.01364878, 0.00400115,\n",
       "       0.        , 0.        , 0.        , 0.        , 0.        ,\n",
       "       0.        , 0.01511556, 0.00600907, 0.00469406, 0.0061889 ,\n",
       "       0.00616732, 0.        , 0.        , 0.        , 0.        ,\n",
       "       0.00496879, 0.        , 0.00678594, 0.        , 0.        ,\n",
       "       0.        , 0.00981998, 0.00847945, 0.        , 0.        ,\n",
       "       0.        , 0.01338113, 0.        , 0.        , 0.        ,\n",
       "       0.        , 0.        , 0.        , 0.        , 0.        ,\n",
       "       0.        , 0.        , 0.00984899, 0.        , 0.00420302,\n",
       "       0.        , 0.02399192, 0.00909918, 0.        ])"
      ]
     },
     "execution_count": 30,
     "metadata": {},
     "output_type": "execute_result"
    }
   ],
   "source": [
    "similarity[0]"
   ]
  },
  {
   "cell_type": "code",
   "execution_count": 31,
   "id": "87bd76ec",
   "metadata": {},
   "outputs": [
    {
     "name": "stdout",
     "output_type": "stream",
     "text": [
      "[[0 0 0 ... 0 0 0]]\n",
      "[[0 0 0 ... 0 0 0]]\n"
     ]
    }
   ],
   "source": [
    "print(bow1[0].toarray())\n",
    "print(bow1[1].toarray())"
   ]
  },
  {
   "cell_type": "code",
   "execution_count": 32,
   "id": "35b0fe26",
   "metadata": {},
   "outputs": [],
   "source": [
    "from sklearn.model_selection import train_test_split\n",
    "from sklearn.naive_bayes import MultinomialNB\n",
    "from sklearn.ensemble import RandomForestClassifier\n",
    "from sklearn.metrics import classification_report, confusion_matrix, accuracy_score"
   ]
  },
  {
   "cell_type": "code",
   "execution_count": 33,
   "id": "72bf6df6",
   "metadata": {},
   "outputs": [],
   "source": [
    "# Split the data into training and test sets\n",
    "X_train, X_test, y_train, y_test = train_test_split(bow1, df['labels'], test_size=0.2, random_state=42)\n"
   ]
  },
  {
   "cell_type": "code",
   "execution_count": 34,
   "id": "e3d8c7ba",
   "metadata": {},
   "outputs": [
    {
     "data": {
      "text/html": [
       "<style>#sk-container-id-1 {color: black;background-color: white;}#sk-container-id-1 pre{padding: 0;}#sk-container-id-1 div.sk-toggleable {background-color: white;}#sk-container-id-1 label.sk-toggleable__label {cursor: pointer;display: block;width: 100%;margin-bottom: 0;padding: 0.3em;box-sizing: border-box;text-align: center;}#sk-container-id-1 label.sk-toggleable__label-arrow:before {content: \"▸\";float: left;margin-right: 0.25em;color: #696969;}#sk-container-id-1 label.sk-toggleable__label-arrow:hover:before {color: black;}#sk-container-id-1 div.sk-estimator:hover label.sk-toggleable__label-arrow:before {color: black;}#sk-container-id-1 div.sk-toggleable__content {max-height: 0;max-width: 0;overflow: hidden;text-align: left;background-color: #f0f8ff;}#sk-container-id-1 div.sk-toggleable__content pre {margin: 0.2em;color: black;border-radius: 0.25em;background-color: #f0f8ff;}#sk-container-id-1 input.sk-toggleable__control:checked~div.sk-toggleable__content {max-height: 200px;max-width: 100%;overflow: auto;}#sk-container-id-1 input.sk-toggleable__control:checked~label.sk-toggleable__label-arrow:before {content: \"▾\";}#sk-container-id-1 div.sk-estimator input.sk-toggleable__control:checked~label.sk-toggleable__label {background-color: #d4ebff;}#sk-container-id-1 div.sk-label input.sk-toggleable__control:checked~label.sk-toggleable__label {background-color: #d4ebff;}#sk-container-id-1 input.sk-hidden--visually {border: 0;clip: rect(1px 1px 1px 1px);clip: rect(1px, 1px, 1px, 1px);height: 1px;margin: -1px;overflow: hidden;padding: 0;position: absolute;width: 1px;}#sk-container-id-1 div.sk-estimator {font-family: monospace;background-color: #f0f8ff;border: 1px dotted black;border-radius: 0.25em;box-sizing: border-box;margin-bottom: 0.5em;}#sk-container-id-1 div.sk-estimator:hover {background-color: #d4ebff;}#sk-container-id-1 div.sk-parallel-item::after {content: \"\";width: 100%;border-bottom: 1px solid gray;flex-grow: 1;}#sk-container-id-1 div.sk-label:hover label.sk-toggleable__label {background-color: #d4ebff;}#sk-container-id-1 div.sk-serial::before {content: \"\";position: absolute;border-left: 1px solid gray;box-sizing: border-box;top: 0;bottom: 0;left: 50%;z-index: 0;}#sk-container-id-1 div.sk-serial {display: flex;flex-direction: column;align-items: center;background-color: white;padding-right: 0.2em;padding-left: 0.2em;position: relative;}#sk-container-id-1 div.sk-item {position: relative;z-index: 1;}#sk-container-id-1 div.sk-parallel {display: flex;align-items: stretch;justify-content: center;background-color: white;position: relative;}#sk-container-id-1 div.sk-item::before, #sk-container-id-1 div.sk-parallel-item::before {content: \"\";position: absolute;border-left: 1px solid gray;box-sizing: border-box;top: 0;bottom: 0;left: 50%;z-index: -1;}#sk-container-id-1 div.sk-parallel-item {display: flex;flex-direction: column;z-index: 1;position: relative;background-color: white;}#sk-container-id-1 div.sk-parallel-item:first-child::after {align-self: flex-end;width: 50%;}#sk-container-id-1 div.sk-parallel-item:last-child::after {align-self: flex-start;width: 50%;}#sk-container-id-1 div.sk-parallel-item:only-child::after {width: 0;}#sk-container-id-1 div.sk-dashed-wrapped {border: 1px dashed gray;margin: 0 0.4em 0.5em 0.4em;box-sizing: border-box;padding-bottom: 0.4em;background-color: white;}#sk-container-id-1 div.sk-label label {font-family: monospace;font-weight: bold;display: inline-block;line-height: 1.2em;}#sk-container-id-1 div.sk-label-container {text-align: center;}#sk-container-id-1 div.sk-container {/* jupyter's `normalize.less` sets `[hidden] { display: none; }` but bootstrap.min.css set `[hidden] { display: none !important; }` so we also need the `!important` here to be able to override the default hidden behavior on the sphinx rendered scikit-learn.org. See: https://github.com/scikit-learn/scikit-learn/issues/21755 */display: inline-block !important;position: relative;}#sk-container-id-1 div.sk-text-repr-fallback {display: none;}</style><div id=\"sk-container-id-1\" class=\"sk-top-container\"><div class=\"sk-text-repr-fallback\"><pre>MultinomialNB()</pre><b>In a Jupyter environment, please rerun this cell to show the HTML representation or trust the notebook. <br />On GitHub, the HTML representation is unable to render, please try loading this page with nbviewer.org.</b></div><div class=\"sk-container\" hidden><div class=\"sk-item\"><div class=\"sk-estimator sk-toggleable\"><input class=\"sk-toggleable__control sk-hidden--visually\" id=\"sk-estimator-id-1\" type=\"checkbox\" checked><label for=\"sk-estimator-id-1\" class=\"sk-toggleable__label sk-toggleable__label-arrow\">MultinomialNB</label><div class=\"sk-toggleable__content\"><pre>MultinomialNB()</pre></div></div></div></div></div>"
      ],
      "text/plain": [
       "MultinomialNB()"
      ]
     },
     "execution_count": 34,
     "metadata": {},
     "output_type": "execute_result"
    }
   ],
   "source": [
    "# Initialize the Naive Bayes classifier\n",
    "nb_classifier = MultinomialNB()\n",
    "\n",
    "# Fit the classifier to the training data\n",
    "nb_classifier.fit(X_train, y_train)"
   ]
  },
  {
   "cell_type": "code",
   "execution_count": 35,
   "id": "1a905cea",
   "metadata": {},
   "outputs": [
    {
     "name": "stdout",
     "output_type": "stream",
     "text": [
      "Accuracy: 0.577639751552795\n",
      "\n",
      "Confusion Matrix:\n",
      " [[44 28]\n",
      " [40 49]]\n",
      "\n",
      "Classification Report:\n",
      "               precision    recall  f1-score   support\n",
      "\n",
      "           0       0.52      0.61      0.56        72\n",
      "           1       0.64      0.55      0.59        89\n",
      "\n",
      "    accuracy                           0.58       161\n",
      "   macro avg       0.58      0.58      0.58       161\n",
      "weighted avg       0.59      0.58      0.58       161\n",
      "\n"
     ]
    }
   ],
   "source": [
    "# Predict the labels for the test set\n",
    "y_pred = nb_classifier.predict(X_test)\n",
    "\n",
    "# Evaluate the model\n",
    "print(\"Accuracy:\", accuracy_score(y_test, y_pred))\n",
    "print(\"\\nConfusion Matrix:\\n\", confusion_matrix(y_test, y_pred))\n",
    "print(\"\\nClassification Report:\\n\", classification_report(y_test, y_pred))"
   ]
  },
  {
   "cell_type": "code",
   "execution_count": 36,
   "id": "ef91cfae",
   "metadata": {},
   "outputs": [
    {
     "name": "stdout",
     "output_type": "stream",
     "text": [
      "[0]\n"
     ]
    }
   ],
   "source": [
    "# Example new reviews\n",
    "new_reviews = [\"In an unprecedented turn of events, sources have revealed that world leaders are planning a secret summit on Mars in 2024. This extraordinary meeting is said to be coordinated by a coalition of space agencies, including NASA and SpaceX, and is purported to discuss the future of interplanetary governance and resource allocation. According to insider information, the leaders will travel to Mars in a newly developed spacecraft capable of making the journey in under two months. This news, though unconfirmed by any official sources, has sparked widespread speculation and conspiracy theories about the intentions behind the closed-door summit and what it might mean for the future of Earth's international relations. Experts are calling for transparency, but so far, no government officials have agreed to comment on these claims\"]\n",
    "\n",
    "# Convert new reviews to TF-IDF representation (using the same tfidf vectorizer)\n",
    "new_reviews_tfidf = cv.transform(new_reviews)\n",
    "\n",
    "# Predict the classes for the new reviews\n",
    "predicted_classes = nb_classifier.predict(new_reviews_tfidf)\n",
    "\n",
    "print(predicted_classes)"
   ]
  },
  {
   "cell_type": "code",
   "execution_count": 37,
   "id": "ab4c1279",
   "metadata": {},
   "outputs": [
    {
     "data": {
      "text/html": [
       "<style>#sk-container-id-2 {color: black;background-color: white;}#sk-container-id-2 pre{padding: 0;}#sk-container-id-2 div.sk-toggleable {background-color: white;}#sk-container-id-2 label.sk-toggleable__label {cursor: pointer;display: block;width: 100%;margin-bottom: 0;padding: 0.3em;box-sizing: border-box;text-align: center;}#sk-container-id-2 label.sk-toggleable__label-arrow:before {content: \"▸\";float: left;margin-right: 0.25em;color: #696969;}#sk-container-id-2 label.sk-toggleable__label-arrow:hover:before {color: black;}#sk-container-id-2 div.sk-estimator:hover label.sk-toggleable__label-arrow:before {color: black;}#sk-container-id-2 div.sk-toggleable__content {max-height: 0;max-width: 0;overflow: hidden;text-align: left;background-color: #f0f8ff;}#sk-container-id-2 div.sk-toggleable__content pre {margin: 0.2em;color: black;border-radius: 0.25em;background-color: #f0f8ff;}#sk-container-id-2 input.sk-toggleable__control:checked~div.sk-toggleable__content {max-height: 200px;max-width: 100%;overflow: auto;}#sk-container-id-2 input.sk-toggleable__control:checked~label.sk-toggleable__label-arrow:before {content: \"▾\";}#sk-container-id-2 div.sk-estimator input.sk-toggleable__control:checked~label.sk-toggleable__label {background-color: #d4ebff;}#sk-container-id-2 div.sk-label input.sk-toggleable__control:checked~label.sk-toggleable__label {background-color: #d4ebff;}#sk-container-id-2 input.sk-hidden--visually {border: 0;clip: rect(1px 1px 1px 1px);clip: rect(1px, 1px, 1px, 1px);height: 1px;margin: -1px;overflow: hidden;padding: 0;position: absolute;width: 1px;}#sk-container-id-2 div.sk-estimator {font-family: monospace;background-color: #f0f8ff;border: 1px dotted black;border-radius: 0.25em;box-sizing: border-box;margin-bottom: 0.5em;}#sk-container-id-2 div.sk-estimator:hover {background-color: #d4ebff;}#sk-container-id-2 div.sk-parallel-item::after {content: \"\";width: 100%;border-bottom: 1px solid gray;flex-grow: 1;}#sk-container-id-2 div.sk-label:hover label.sk-toggleable__label {background-color: #d4ebff;}#sk-container-id-2 div.sk-serial::before {content: \"\";position: absolute;border-left: 1px solid gray;box-sizing: border-box;top: 0;bottom: 0;left: 50%;z-index: 0;}#sk-container-id-2 div.sk-serial {display: flex;flex-direction: column;align-items: center;background-color: white;padding-right: 0.2em;padding-left: 0.2em;position: relative;}#sk-container-id-2 div.sk-item {position: relative;z-index: 1;}#sk-container-id-2 div.sk-parallel {display: flex;align-items: stretch;justify-content: center;background-color: white;position: relative;}#sk-container-id-2 div.sk-item::before, #sk-container-id-2 div.sk-parallel-item::before {content: \"\";position: absolute;border-left: 1px solid gray;box-sizing: border-box;top: 0;bottom: 0;left: 50%;z-index: -1;}#sk-container-id-2 div.sk-parallel-item {display: flex;flex-direction: column;z-index: 1;position: relative;background-color: white;}#sk-container-id-2 div.sk-parallel-item:first-child::after {align-self: flex-end;width: 50%;}#sk-container-id-2 div.sk-parallel-item:last-child::after {align-self: flex-start;width: 50%;}#sk-container-id-2 div.sk-parallel-item:only-child::after {width: 0;}#sk-container-id-2 div.sk-dashed-wrapped {border: 1px dashed gray;margin: 0 0.4em 0.5em 0.4em;box-sizing: border-box;padding-bottom: 0.4em;background-color: white;}#sk-container-id-2 div.sk-label label {font-family: monospace;font-weight: bold;display: inline-block;line-height: 1.2em;}#sk-container-id-2 div.sk-label-container {text-align: center;}#sk-container-id-2 div.sk-container {/* jupyter's `normalize.less` sets `[hidden] { display: none; }` but bootstrap.min.css set `[hidden] { display: none !important; }` so we also need the `!important` here to be able to override the default hidden behavior on the sphinx rendered scikit-learn.org. See: https://github.com/scikit-learn/scikit-learn/issues/21755 */display: inline-block !important;position: relative;}#sk-container-id-2 div.sk-text-repr-fallback {display: none;}</style><div id=\"sk-container-id-2\" class=\"sk-top-container\"><div class=\"sk-text-repr-fallback\"><pre>RandomForestClassifier()</pre><b>In a Jupyter environment, please rerun this cell to show the HTML representation or trust the notebook. <br />On GitHub, the HTML representation is unable to render, please try loading this page with nbviewer.org.</b></div><div class=\"sk-container\" hidden><div class=\"sk-item\"><div class=\"sk-estimator sk-toggleable\"><input class=\"sk-toggleable__control sk-hidden--visually\" id=\"sk-estimator-id-2\" type=\"checkbox\" checked><label for=\"sk-estimator-id-2\" class=\"sk-toggleable__label sk-toggleable__label-arrow\">RandomForestClassifier</label><div class=\"sk-toggleable__content\"><pre>RandomForestClassifier()</pre></div></div></div></div></div>"
      ],
      "text/plain": [
       "RandomForestClassifier()"
      ]
     },
     "execution_count": 37,
     "metadata": {},
     "output_type": "execute_result"
    }
   ],
   "source": [
    "rf = RandomForestClassifier()\n",
    "rf.fit(X_train, y_train)"
   ]
  },
  {
   "cell_type": "code",
   "execution_count": 38,
   "id": "c56bbf9a",
   "metadata": {},
   "outputs": [
    {
     "name": "stdout",
     "output_type": "stream",
     "text": [
      "Accuracy: 0.5962732919254659\n",
      "\n",
      "Confusion Matrix:\n",
      " [[19 53]\n",
      " [12 77]]\n",
      "\n",
      "Classification Report:\n",
      "               precision    recall  f1-score   support\n",
      "\n",
      "           0       0.61      0.26      0.37        72\n",
      "           1       0.59      0.87      0.70        89\n",
      "\n",
      "    accuracy                           0.60       161\n",
      "   macro avg       0.60      0.56      0.54       161\n",
      "weighted avg       0.60      0.60      0.55       161\n",
      "\n"
     ]
    }
   ],
   "source": [
    "# Predict the labels for the test set\n",
    "y_pred = rf.predict(X_test)\n",
    "\n",
    "# Evaluate the model\n",
    "print(\"Accuracy:\", accuracy_score(y_test, y_pred))\n",
    "print(\"\\nConfusion Matrix:\\n\", confusion_matrix(y_test, y_pred))\n",
    "print(\"\\nClassification Report:\\n\", classification_report(y_test, y_pred))"
   ]
  },
  {
   "cell_type": "code",
   "execution_count": 39,
   "id": "085f9615",
   "metadata": {},
   "outputs": [
    {
     "name": "stdout",
     "output_type": "stream",
     "text": [
      "[0]\n"
     ]
    }
   ],
   "source": [
    "# Example new reviews\n",
    "new_reviews = [\"In an unprecedented turn of events, sources have revealed that world leaders are planning a secret summit on Mars in 2024. This extraordinary meeting is said to be coordinated by a coalition of space agencies, including NASA and SpaceX, and is purported to discuss the future of interplanetary governance and resource allocation. According to insider information, the leaders will travel to Mars in a newly developed spacecraft capable of making the journey in under two months. This news, though unconfirmed by any official sources, has sparked widespread speculation and conspiracy theories about the intentions behind the closed-door summit and what it might mean for the future of Earth's international relations. Experts are calling for transparency, but so far, no government officials have agreed to comment on these claims\"]\n",
    "\n",
    "# Convert new reviews to TF-IDF representation (using the same tfidf vectorizer)\n",
    "new_reviews_tfidf = cv.transform(new_reviews)\n",
    "\n",
    "# Predict the classes for the new reviews\n",
    "predicted_classes = nb_classifier.predict(new_reviews_tfidf)\n",
    "\n",
    "print(predicted_classes)"
   ]
  },
  {
   "cell_type": "code",
   "execution_count": 46,
   "id": "f2171866",
   "metadata": {},
   "outputs": [],
   "source": [
    "from sklearn import svm"
   ]
  },
  {
   "cell_type": "code",
   "execution_count": 49,
   "id": "d170019e",
   "metadata": {},
   "outputs": [
    {
     "data": {
      "text/html": [
       "<style>#sk-container-id-6 {color: black;background-color: white;}#sk-container-id-6 pre{padding: 0;}#sk-container-id-6 div.sk-toggleable {background-color: white;}#sk-container-id-6 label.sk-toggleable__label {cursor: pointer;display: block;width: 100%;margin-bottom: 0;padding: 0.3em;box-sizing: border-box;text-align: center;}#sk-container-id-6 label.sk-toggleable__label-arrow:before {content: \"▸\";float: left;margin-right: 0.25em;color: #696969;}#sk-container-id-6 label.sk-toggleable__label-arrow:hover:before {color: black;}#sk-container-id-6 div.sk-estimator:hover label.sk-toggleable__label-arrow:before {color: black;}#sk-container-id-6 div.sk-toggleable__content {max-height: 0;max-width: 0;overflow: hidden;text-align: left;background-color: #f0f8ff;}#sk-container-id-6 div.sk-toggleable__content pre {margin: 0.2em;color: black;border-radius: 0.25em;background-color: #f0f8ff;}#sk-container-id-6 input.sk-toggleable__control:checked~div.sk-toggleable__content {max-height: 200px;max-width: 100%;overflow: auto;}#sk-container-id-6 input.sk-toggleable__control:checked~label.sk-toggleable__label-arrow:before {content: \"▾\";}#sk-container-id-6 div.sk-estimator input.sk-toggleable__control:checked~label.sk-toggleable__label {background-color: #d4ebff;}#sk-container-id-6 div.sk-label input.sk-toggleable__control:checked~label.sk-toggleable__label {background-color: #d4ebff;}#sk-container-id-6 input.sk-hidden--visually {border: 0;clip: rect(1px 1px 1px 1px);clip: rect(1px, 1px, 1px, 1px);height: 1px;margin: -1px;overflow: hidden;padding: 0;position: absolute;width: 1px;}#sk-container-id-6 div.sk-estimator {font-family: monospace;background-color: #f0f8ff;border: 1px dotted black;border-radius: 0.25em;box-sizing: border-box;margin-bottom: 0.5em;}#sk-container-id-6 div.sk-estimator:hover {background-color: #d4ebff;}#sk-container-id-6 div.sk-parallel-item::after {content: \"\";width: 100%;border-bottom: 1px solid gray;flex-grow: 1;}#sk-container-id-6 div.sk-label:hover label.sk-toggleable__label {background-color: #d4ebff;}#sk-container-id-6 div.sk-serial::before {content: \"\";position: absolute;border-left: 1px solid gray;box-sizing: border-box;top: 0;bottom: 0;left: 50%;z-index: 0;}#sk-container-id-6 div.sk-serial {display: flex;flex-direction: column;align-items: center;background-color: white;padding-right: 0.2em;padding-left: 0.2em;position: relative;}#sk-container-id-6 div.sk-item {position: relative;z-index: 1;}#sk-container-id-6 div.sk-parallel {display: flex;align-items: stretch;justify-content: center;background-color: white;position: relative;}#sk-container-id-6 div.sk-item::before, #sk-container-id-6 div.sk-parallel-item::before {content: \"\";position: absolute;border-left: 1px solid gray;box-sizing: border-box;top: 0;bottom: 0;left: 50%;z-index: -1;}#sk-container-id-6 div.sk-parallel-item {display: flex;flex-direction: column;z-index: 1;position: relative;background-color: white;}#sk-container-id-6 div.sk-parallel-item:first-child::after {align-self: flex-end;width: 50%;}#sk-container-id-6 div.sk-parallel-item:last-child::after {align-self: flex-start;width: 50%;}#sk-container-id-6 div.sk-parallel-item:only-child::after {width: 0;}#sk-container-id-6 div.sk-dashed-wrapped {border: 1px dashed gray;margin: 0 0.4em 0.5em 0.4em;box-sizing: border-box;padding-bottom: 0.4em;background-color: white;}#sk-container-id-6 div.sk-label label {font-family: monospace;font-weight: bold;display: inline-block;line-height: 1.2em;}#sk-container-id-6 div.sk-label-container {text-align: center;}#sk-container-id-6 div.sk-container {/* jupyter's `normalize.less` sets `[hidden] { display: none; }` but bootstrap.min.css set `[hidden] { display: none !important; }` so we also need the `!important` here to be able to override the default hidden behavior on the sphinx rendered scikit-learn.org. See: https://github.com/scikit-learn/scikit-learn/issues/21755 */display: inline-block !important;position: relative;}#sk-container-id-6 div.sk-text-repr-fallback {display: none;}</style><div id=\"sk-container-id-6\" class=\"sk-top-container\"><div class=\"sk-text-repr-fallback\"><pre>SVC(kernel=&#x27;poly&#x27;)</pre><b>In a Jupyter environment, please rerun this cell to show the HTML representation or trust the notebook. <br />On GitHub, the HTML representation is unable to render, please try loading this page with nbviewer.org.</b></div><div class=\"sk-container\" hidden><div class=\"sk-item\"><div class=\"sk-estimator sk-toggleable\"><input class=\"sk-toggleable__control sk-hidden--visually\" id=\"sk-estimator-id-6\" type=\"checkbox\" checked><label for=\"sk-estimator-id-6\" class=\"sk-toggleable__label sk-toggleable__label-arrow\">SVC</label><div class=\"sk-toggleable__content\"><pre>SVC(kernel=&#x27;poly&#x27;)</pre></div></div></div></div></div>"
      ],
      "text/plain": [
       "SVC(kernel='poly')"
      ]
     },
     "execution_count": 49,
     "metadata": {},
     "output_type": "execute_result"
    }
   ],
   "source": [
    "lr = svm.SVC(kernel='poly')\n",
    "lr.fit(X_train, y_train)"
   ]
  },
  {
   "cell_type": "code",
   "execution_count": 50,
   "id": "f204acad",
   "metadata": {},
   "outputs": [
    {
     "name": "stdout",
     "output_type": "stream",
     "text": [
      "Accuracy: 0.5217391304347826\n",
      "\n",
      "Confusion Matrix:\n",
      " [[ 5 67]\n",
      " [10 79]]\n",
      "\n",
      "Classification Report:\n",
      "               precision    recall  f1-score   support\n",
      "\n",
      "           0       0.33      0.07      0.11        72\n",
      "           1       0.54      0.89      0.67        89\n",
      "\n",
      "    accuracy                           0.52       161\n",
      "   macro avg       0.44      0.48      0.39       161\n",
      "weighted avg       0.45      0.52      0.42       161\n",
      "\n"
     ]
    }
   ],
   "source": [
    "# Predict the labels for the test set\n",
    "y_pred = lr.predict(X_test)\n",
    "\n",
    "# Evaluate the model\n",
    "print(\"Accuracy:\", accuracy_score(y_test, y_pred))\n",
    "print(\"\\nConfusion Matrix:\\n\", confusion_matrix(y_test, y_pred))\n",
    "print(\"\\nClassification Report:\\n\", classification_report(y_test, y_pred))"
   ]
  },
  {
   "cell_type": "code",
   "execution_count": 51,
   "id": "2bb92f70",
   "metadata": {},
   "outputs": [],
   "source": [
    "import numpy as np\n",
    "import tensorflow as tf\n",
    "from tensorflow.keras.models import Sequential\n",
    "from tensorflow.keras.layers import Embedding, LSTM, GRU, Dense, Dropout\n",
    "from tensorflow.keras.preprocessing.text import Tokenizer\n",
    "from tensorflow.keras.preprocessing.sequence import pad_sequences\n",
    "from sklearn.model_selection import train_test_split\n",
    "from sklearn.metrics import accuracy_score"
   ]
  },
  {
   "cell_type": "code",
   "execution_count": 54,
   "id": "614ec401",
   "metadata": {},
   "outputs": [],
   "source": [
    "max_words = 1000\n",
    "tokenizer = Tokenizer(num_words=max_words)\n",
    "tokenizer.fit_on_texts(df['article_content'])\n",
    "sequences = tokenizer.texts_to_sequences(df['article_content'])"
   ]
  },
  {
   "cell_type": "code",
   "execution_count": 55,
   "id": "b00fd490",
   "metadata": {},
   "outputs": [],
   "source": [
    "max_sequence_length = 10\n",
    "df['article_content'] = pad_sequences(sequences, maxlen=max_sequence_length, padding='post', truncating='post')"
   ]
  },
  {
   "cell_type": "code",
   "execution_count": 56,
   "id": "1dc0fed4",
   "metadata": {},
   "outputs": [],
   "source": [
    "X_train, X_test, y_train, y_test = train_test_split(df['article_content'], df['labels'], test_size=0.2, random_state=42)"
   ]
  },
  {
   "cell_type": "code",
   "execution_count": 58,
   "id": "a2daeaa8",
   "metadata": {},
   "outputs": [],
   "source": [
    "# Create an LSTM model\n",
    "lstm_model = Sequential()\n",
    "lstm_model.add(Embedding(input_dim=max_words, output_dim=128, input_length=max_sequence_length))\n",
    "lstm_model.add(LSTM(64))\n",
    "lstm_model.add(Dense(1, activation='sigmoid'))"
   ]
  },
  {
   "cell_type": "code",
   "execution_count": 59,
   "id": "dbba1ba7",
   "metadata": {},
   "outputs": [],
   "source": [
    "# Compile the LSTM model\n",
    "lstm_model.compile(loss='binary_crossentropy', optimizer='adam', metrics=['accuracy'])"
   ]
  },
  {
   "cell_type": "code",
   "execution_count": 62,
   "id": "0e961a6b",
   "metadata": {},
   "outputs": [
    {
     "name": "stdout",
     "output_type": "stream",
     "text": [
      "Epoch 1/10\n",
      "21/21 [==============================] - 0s 7ms/step - loss: 0.5890 - accuracy: 0.6392 - val_loss: 0.8826 - val_accuracy: 0.4907\n",
      "Epoch 2/10\n",
      "21/21 [==============================] - 0s 5ms/step - loss: 0.5884 - accuracy: 0.6439 - val_loss: 0.8860 - val_accuracy: 0.4969\n",
      "Epoch 3/10\n",
      "21/21 [==============================] - 0s 6ms/step - loss: 0.5882 - accuracy: 0.6345 - val_loss: 0.8873 - val_accuracy: 0.4907\n",
      "Epoch 4/10\n",
      "21/21 [==============================] - 0s 6ms/step - loss: 0.5889 - accuracy: 0.6423 - val_loss: 0.8920 - val_accuracy: 0.4907\n",
      "Epoch 5/10\n",
      "21/21 [==============================] - 0s 6ms/step - loss: 0.5878 - accuracy: 0.6501 - val_loss: 0.8859 - val_accuracy: 0.4907\n",
      "Epoch 6/10\n",
      "21/21 [==============================] - 0s 7ms/step - loss: 0.5875 - accuracy: 0.6454 - val_loss: 0.8870 - val_accuracy: 0.4907\n",
      "Epoch 7/10\n",
      "21/21 [==============================] - 0s 6ms/step - loss: 0.5878 - accuracy: 0.6376 - val_loss: 0.8910 - val_accuracy: 0.4907\n",
      "Epoch 8/10\n",
      "21/21 [==============================] - 0s 6ms/step - loss: 0.5875 - accuracy: 0.6392 - val_loss: 0.8924 - val_accuracy: 0.5031\n",
      "Epoch 9/10\n",
      "21/21 [==============================] - 0s 6ms/step - loss: 0.5859 - accuracy: 0.6485 - val_loss: 0.9073 - val_accuracy: 0.5031\n",
      "Epoch 10/10\n",
      "21/21 [==============================] - 0s 6ms/step - loss: 0.5860 - accuracy: 0.6439 - val_loss: 0.9198 - val_accuracy: 0.5093\n"
     ]
    },
    {
     "data": {
      "text/plain": [
       "<keras.src.callbacks.History at 0x1770a0da380>"
      ]
     },
     "execution_count": 62,
     "metadata": {},
     "output_type": "execute_result"
    }
   ],
   "source": [
    "# Train the LSTM model\n",
    "lstm_model.fit(X_train, y_train, epochs=10, batch_size=32, validation_data=(X_test, y_test))\n",
    "\n"
   ]
  },
  {
   "cell_type": "code",
   "execution_count": 63,
   "id": "7f3ce0e7",
   "metadata": {},
   "outputs": [
    {
     "name": "stdout",
     "output_type": "stream",
     "text": [
      "6/6 [==============================] - 0s 5ms/step\n"
     ]
    }
   ],
   "source": [
    "# Make predictions using the LSTM model\n",
    "lstm_predictions = (lstm_model.predict(X_test) > 0.5).astype(int)"
   ]
  },
  {
   "cell_type": "code",
   "execution_count": 64,
   "id": "7006f95c",
   "metadata": {},
   "outputs": [
    {
     "name": "stdout",
     "output_type": "stream",
     "text": [
      "LSTM Accuracy: 50.93%\n"
     ]
    }
   ],
   "source": [
    "# Calculate the accuracy of the LSTM model\n",
    "lstm_accuracy = accuracy_score(y_test, lstm_predictions)\n",
    "print(f\"LSTM Accuracy: {lstm_accuracy * 100:.2f}%\")"
   ]
  },
  {
   "cell_type": "code",
   "execution_count": 65,
   "id": "f3117af4",
   "metadata": {},
   "outputs": [],
   "source": [
    "gru_model = Sequential()\n",
    "gru_model.add(Embedding(input_dim=max_words, output_dim=128, input_length=max_sequence_length))\n",
    "gru_model.add(GRU(64))\n",
    "gru_model.add(Dense(1, activation='sigmoid'))"
   ]
  },
  {
   "cell_type": "code",
   "execution_count": 66,
   "id": "090ca179",
   "metadata": {},
   "outputs": [
    {
     "name": "stdout",
     "output_type": "stream",
     "text": [
      "Epoch 1/10\n",
      "21/21 [==============================] - 3s 25ms/step - loss: 0.6929 - accuracy: 0.5163 - val_loss: 0.6916 - val_accuracy: 0.5404\n",
      "Epoch 2/10\n",
      "21/21 [==============================] - 0s 6ms/step - loss: 0.6859 - accuracy: 0.6003 - val_loss: 0.6913 - val_accuracy: 0.5280\n",
      "Epoch 3/10\n",
      "21/21 [==============================] - 0s 6ms/step - loss: 0.6748 - accuracy: 0.6345 - val_loss: 0.6951 - val_accuracy: 0.5155\n",
      "Epoch 4/10\n",
      "21/21 [==============================] - 0s 6ms/step - loss: 0.6556 - accuracy: 0.6376 - val_loss: 0.7106 - val_accuracy: 0.5093\n",
      "Epoch 5/10\n",
      "21/21 [==============================] - 0s 5ms/step - loss: 0.6314 - accuracy: 0.6485 - val_loss: 0.7478 - val_accuracy: 0.4783\n",
      "Epoch 6/10\n",
      "21/21 [==============================] - 0s 6ms/step - loss: 0.6188 - accuracy: 0.6470 - val_loss: 0.7825 - val_accuracy: 0.4783\n",
      "Epoch 7/10\n",
      "21/21 [==============================] - 0s 7ms/step - loss: 0.6112 - accuracy: 0.6392 - val_loss: 0.7941 - val_accuracy: 0.4534\n",
      "Epoch 8/10\n",
      "21/21 [==============================] - 0s 7ms/step - loss: 0.6057 - accuracy: 0.6330 - val_loss: 0.8220 - val_accuracy: 0.4161\n",
      "Epoch 9/10\n",
      "21/21 [==============================] - 0s 6ms/step - loss: 0.6046 - accuracy: 0.6392 - val_loss: 0.8217 - val_accuracy: 0.4845\n",
      "Epoch 10/10\n",
      "21/21 [==============================] - 0s 6ms/step - loss: 0.5989 - accuracy: 0.6470 - val_loss: 0.8313 - val_accuracy: 0.4658\n"
     ]
    },
    {
     "data": {
      "text/plain": [
       "<keras.src.callbacks.History at 0x1770b1d5750>"
      ]
     },
     "execution_count": 66,
     "metadata": {},
     "output_type": "execute_result"
    }
   ],
   "source": [
    "# Compile the GRU model\n",
    "gru_model.compile(loss='binary_crossentropy', optimizer='adam', metrics=['accuracy'])\n",
    "\n",
    "# Train the GRU model\n",
    "gru_model.fit(X_train, y_train, epochs=10, batch_size=32, validation_data=(X_test, y_test))"
   ]
  },
  {
   "cell_type": "code",
   "execution_count": 67,
   "id": "416215e3",
   "metadata": {},
   "outputs": [
    {
     "name": "stdout",
     "output_type": "stream",
     "text": [
      "6/6 [==============================] - 0s 3ms/step\n",
      "GRU Accuracy: 46.58%\n"
     ]
    }
   ],
   "source": [
    "# Make predictions using the GRU model\n",
    "gru_predictions = (gru_model.predict(X_test) > 0.5).astype(int)\n",
    "\n",
    "# Calculate the accuracy of the GRU model\n",
    "gru_accuracy = accuracy_score(y_test, gru_predictions)\n",
    "print(f\"GRU Accuracy: {gru_accuracy * 100:.2f}%\")"
   ]
  },
  {
   "cell_type": "code",
   "execution_count": null,
   "id": "26757c8a",
   "metadata": {},
   "outputs": [],
   "source": []
  }
 ],
 "metadata": {
  "kernelspec": {
   "display_name": "Python 3 (ipykernel)",
   "language": "python",
   "name": "python3"
  },
  "language_info": {
   "codemirror_mode": {
    "name": "ipython",
    "version": 3
   },
   "file_extension": ".py",
   "mimetype": "text/x-python",
   "name": "python",
   "nbconvert_exporter": "python",
   "pygments_lexer": "ipython3",
   "version": "3.10.9"
  }
 },
 "nbformat": 4,
 "nbformat_minor": 5
}
